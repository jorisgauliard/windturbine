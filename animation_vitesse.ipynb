{
 "cells": [
  {
   "cell_type": "code",
   "execution_count": 7,
   "metadata": {
    "scrolled": false
   },
   "outputs": [
    {
     "ename": "ModuleNotFoundError",
     "evalue": "No module named 'matplotlib'",
     "output_type": "error",
     "traceback": [
      "\u001b[0;31m---------------------------------------------------------------------------\u001b[0m",
      "\u001b[0;31mModuleNotFoundError\u001b[0m                       Traceback (most recent call last)",
      "Cell \u001b[0;32mIn [7], line 1\u001b[0m\n\u001b[0;32m----> 1\u001b[0m \u001b[38;5;28;01mimport\u001b[39;00m \u001b[38;5;21;01mmatplotlib\u001b[39;00m\u001b[38;5;21;01m.\u001b[39;00m\u001b[38;5;21;01mpyplot\u001b[39;00m \u001b[38;5;28;01mas\u001b[39;00m \u001b[38;5;21;01mplt\u001b[39;00m\n\u001b[1;32m      2\u001b[0m \u001b[38;5;28;01mimport\u001b[39;00m \u001b[38;5;21;01mnumpy\u001b[39;00m \u001b[38;5;28;01mas\u001b[39;00m \u001b[38;5;21;01mnp\u001b[39;00m\n\u001b[1;32m      3\u001b[0m \u001b[38;5;28;01mimport\u001b[39;00m \u001b[38;5;21;01mmatplotlib\u001b[39;00m\u001b[38;5;21;01m.\u001b[39;00m\u001b[38;5;21;01manimation\u001b[39;00m \u001b[38;5;28;01mas\u001b[39;00m \u001b[38;5;21;01manimation\u001b[39;00m\n",
      "\u001b[0;31mModuleNotFoundError\u001b[0m: No module named 'matplotlib'"
     ]
    }
   ],
   "source": [
    "import matplotlib.pyplot as plt\n",
    "import numpy as np\n",
    "import matplotlib.animation as animation\n",
    "\n",
    "# Enable interactive plot\n",
    "%matplotlib notebook\n",
    "\n",
    "R = 1.15 # rayon\n",
    "Vr = 0.2 # vent réel\n",
    "Vd = 0.4 # vent mouvement\n",
    "s = 200\n",
    "\n",
    "fig, ax = plt.subplots(figsize=(5, 5))\n",
    "\n",
    "circle = plt.Circle((0, 0), 1.15, fill=False, linestyle='--')\n",
    "\n",
    "\n",
    "def animate(i):\n",
    "    \n",
    "    cosinus_i = np.cos(2 * np.pi * i / s)\n",
    "    sinus_i = np.sin(2 * np.pi * i / s)\n",
    "    \n",
    "    ax.cla()\n",
    "    ax.add_artist(circle)\n",
    "    \n",
    "    plt.xlim(-1 + cosinus_i, 1 + cosinus_i)\n",
    "    plt.ylim(-1 + sinus_i, 1 + sinus_i)\n",
    "    \n",
    "    \n",
    "    X1 = R * cosinus_i\n",
    "    Y1 = R * sinus_i\n",
    "    U1 = Vr + Vd * sinus_i\n",
    "    V1 = - Vd * cosinus_i\n",
    "    \n",
    "    X2 = R * cosinus_i\n",
    "    Y2 = R * sinus_i\n",
    "    U2 = Vr\n",
    "    V2 = 0\n",
    "    \n",
    "    X3 = R * cosinus_i + Vr\n",
    "    Y3 = R * sinus_i\n",
    "    U3 = Vd * sinus_i\n",
    "    V3 = - Vd * cosinus_i\n",
    "    \n",
    "    if cosinus_i > 0:\n",
    "        ax.text(R * cosinus_i + 0.05, R * sinus_i + 0.05, 'Vr')\n",
    "        ax.text(R * cosinus_i + Vr + Vd * sinus_i / 2, R * sinus_i - Vd * cosinus_i / 2, 'Vd')\n",
    "        \n",
    "    else:\n",
    "        ax.text(R * cosinus_i + 0.05, R * sinus_i - 0.1, 'Vr')\n",
    "        ax.text(R * cosinus_i + Vr + Vd * sinus_i / 2, R * sinus_i - Vd * cosinus_i / 2, 'Vd')\n",
    "    \n",
    "    ax.quiver(X1, Y1, U1, V1, units='xy', scale=1, color='steelblue')\n",
    "    ax.quiver(X2, Y2, U2, V2, units='xy', scale=1, color='silver')\n",
    "    ax.quiver(X3, Y3, U3, V3, units='xy', scale=1, color='silver')\n",
    "    \n",
    "    return \n",
    "\n",
    "\n",
    "anim = animation.FuncAnimation(fig, animate, frames=s, interval=20, blit=True)"
   ]
  },
  {
   "cell_type": "code",
   "execution_count": null,
   "metadata": {},
   "outputs": [],
   "source": []
  }
 ],
 "metadata": {
  "kernelspec": {
   "display_name": "Python 3.8.9 64-bit",
   "language": "python",
   "name": "python3"
  },
  "language_info": {
   "codemirror_mode": {
    "name": "ipython",
    "version": 3
   },
   "file_extension": ".py",
   "mimetype": "text/x-python",
   "name": "python",
   "nbconvert_exporter": "python",
   "pygments_lexer": "ipython3",
   "version": "3.8.9"
  },
  "vscode": {
   "interpreter": {
    "hash": "31f2aee4e71d21fbe5cf8b01ff0e069b9275f58929596ceb00d14d90e3e16cd6"
   }
  }
 },
 "nbformat": 4,
 "nbformat_minor": 4
}
