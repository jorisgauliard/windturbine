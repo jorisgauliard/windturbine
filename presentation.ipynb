{
  "cells": [
    {
      "cell_type": "markdown",
      "metadata": {
        "id": "view-in-github",
        "colab_type": "text"
      },
      "source": [
        "<a href=\"https://colab.research.google.com/github/jorisgauliard/windturbine/blob/main/presentation.ipynb\" target=\"_parent\"><img src=\"https://colab.research.google.com/assets/colab-badge.svg\" alt=\"Open In Colab\"/></a>"
      ]
    },
    {
      "cell_type": "markdown",
      "source": [
        "# Adjustable Incidence Vertical Windturbine\n",
        "### Power Calculation and Optimal Incidence Definition\n",
        "\n",
        "I collaborated with a windturbine compagny to compare experimental findings with a theoretical power calculation.\n",
        "\n",
        "The windturbine technology is patented.\n",
        "\n",
        "All the dimensions that are used here are fictional."
      ],
      "metadata": {
        "id": "n0vxaPKRSHL-"
      }
    },
    {
      "cell_type": "code",
      "source": [
        "import numpy as np\n",
        "import pandas as pd\n",
        "import matplotlib.pyplot as plt"
      ],
      "metadata": {
        "id": "QZ_Utx8bPqF8"
      },
      "execution_count": 4,
      "outputs": []
    },
    {
      "cell_type": "markdown",
      "metadata": {
        "id": "z3zGo7CdMwKj"
      },
      "source": [
        "# Definition of the incidence and power fucntions"
      ]
    },
    {
      "cell_type": "code",
      "source": [
        "def incidence(Io,threshold,s,type=2):\n",
        "    \n",
        "    # calcul préalables a partir des paramètres d'entrée\n",
        "    \n",
        "    a = np.linspace(0, 2*np.pi,s)        # definition de l'angle\n",
        "    I = np.zeros(s)                      # creation d'une liste vide pour la variable incidence\n",
        "\n",
        "    if threshold >= 1:                   # threshold >= 1 equivalent a allure carrée\n",
        "        type = 1\n",
        "        \n",
        "    # creation de la base incidence a allure carree\n",
        "    \n",
        "    for i in range(s):                   # on parcourt sur s iteration\n",
        "\n",
        "        if np.cos(a[i]) > 0:             # condition sur l'angle\n",
        "            I[i] = Io                    # attribution de la valeure I0 a I si condition validée\n",
        "        elif np.cos(a[i]) == 0:\n",
        "            I[i] = 0                     # attribution de la valeure 0 a I si condition validée\n",
        "        else:\n",
        "            I[i] = -Io                   # attribution de la valeure -I0 a I si condition validée\n",
        "\n",
        "    # retour de I si le choix est type 1 \n",
        "    \n",
        "    if type == 1:                            # condition 1\n",
        "        \n",
        "        return I                             # retour de I et sortie de la fonction incidence\n",
        "    \n",
        "    # calcul de I si choix 2\n",
        "    \n",
        "    elif type == 2:\n",
        "        \n",
        "        A0 = np.arcsin(threshold)                # calcul de l'angle de seuil in\n",
        "        A1 = np.pi / 2 + np.arccos(threshold)    # calcul de l'angle de seuil out\n",
        "        T = 2 * (A1 - A0)                        # periode de la sinusoïde entre in et out\n",
        "        f = 1 / T                                # frequence de la sinusoïde entre in et out\n",
        "        omega = 2 * np.pi * f                    # vitesse angulaire de la sinusoïde entre in et out\n",
        "        phi1 = - omega*A0 + np.pi/2              # dephasage sur la partie haute a cos positif\n",
        "        phi2 = - omega*(A0+np.pi) - np.pi/2      # dephasage sur la partie haute a cos negatif\n",
        "        \n",
        "        for i in range(s):\n",
        "\n",
        "            if np.sin(a[i]) > threshold:\n",
        "                I[i] = Io * np.sin(omega * a[i] + phi1)\n",
        "\n",
        "            elif np.sin(a[i]) < -threshold:\n",
        "                I[i] = Io * np.sin(omega * a[i] + phi2)\n",
        "                \n",
        "        return I\n",
        "                \n",
        "    else:\n",
        "        \n",
        "        print(\"Type must be 1 or 2 and is now set as\",type)"
      ],
      "metadata": {
        "id": "G5jksknmPqXd"
      },
      "execution_count": 5,
      "outputs": []
    },
    {
      "cell_type": "code",
      "source": [
        "def power(Vr, Rv, R, l, L, I0, threshold, s):\n",
        "    \n",
        "    #Calculated parameters\n",
        "    Vd = Rv * Vr\n",
        "    w = Vd / (2 * np.pi * R) # vitesse de rotation en m/s\n",
        "    # Cd & Cl table import\n",
        "    Coeffs = pd.read_excel(r'coeff.xlsx')\n",
        "    Coeffs.Alpha[1]\n",
        "    \n",
        "    #variables names initialisation\n",
        "    variables_list = ['a', 'Theta', 'Tabsolue', 'vent_apparent','Portance', 'Trainee' , 'Cl', 'Cd', 'Couple_moteur', 'Couple_resistant', 'Couple_resultant', 'Travail_resultant']\n",
        "    variables_dict = {}\n",
        "    for x in variables_list:\n",
        "        variables_dict[x] = np.linspace(0, 2*np.pi,s)\n",
        "    \n",
        "    I = incidence(I0, threshold, s) #application de la focntion incidence\n",
        "    \n",
        "    # calculation of parameters\n",
        "    for i in range(s):\n",
        "        variables_dict['vent_apparent'][i] = np.sqrt(Vr ** 2 + Vd ** 2 - 2 * Vr * Vd * np.cos(np.pi / 2 + variables_dict['a'][i]))\n",
        "        variables_dict['Theta'][i] = np.arcsin(Vr / variables_dict['vent_apparent'][i] * np.sin(variables_dict['a'][i] - np.pi / 2))\n",
        "        variables_dict['Tabsolue'][i] = np.abs(variables_dict['Theta'][i])\n",
        "        variables_dict['Cl'][i] = Coeffs.Cl[(np.abs(Coeffs.Alpha - I[i])).argmin()]\n",
        "        variables_dict['Cd'][i] = Coeffs.Cd[(np.abs(Coeffs.Alpha - I[i])).argmin()]\n",
        "        variables_dict['Portance'][i] = 1 / 2 * 1.225 * variables_dict['vent_apparent'][i] ** 2 * L * l * variables_dict['Cl'][i]\n",
        "        variables_dict['Trainee'][i] = 1 / 2 * 1.225 * variables_dict['vent_apparent'][i] ** 2 * L * l * variables_dict['Cd'][i]\n",
        "        variables_dict['Couple_moteur'][i] = np.abs(variables_dict['Portance'][i] * np.sin(variables_dict['Tabsolue'][i])) * R\n",
        "        variables_dict['Couple_resistant'][i] = variables_dict['Trainee'][i] * np.cos(variables_dict['Tabsolue'][i]) * R\n",
        "        variables_dict['Couple_resultant'][i] = variables_dict['Couple_moteur'][i] - variables_dict['Couple_resistant'][i]\n",
        "        variables_dict['Travail_resultant'][i] = variables_dict['Couple_resultant'][i] * 2 * np.pi / s\n",
        "    \n",
        "    travail_total = sum(variables_dict['Travail_resultant'])\n",
        "    puissance = 4 * travail_total * w\n",
        "    puissance_surfacique = puissance / (2 * L * R)\n",
        "    \n",
        "    return [w,puissance, puissance_surfacique]"
      ],
      "metadata": {
        "id": "eFuzBYnyPqy-"
      },
      "execution_count": 18,
      "outputs": []
    },
    {
      "cell_type": "markdown",
      "source": [
        "# Power Calculation\n",
        "---\n",
        "## Visualisation de l'incidence\n",
        "\n",
        "La fonction **incidence** permet de définir l'incidence réelle : l'angle formé entre une pale et le vent apparent.\n",
        "4 paramètres en entrée sont nécessaires :\n",
        "- **I0** *l'incidence optimale*, égale à 7° dans cette étude\n",
        "- **threshold** *le seuil ajustable*, valeure subjective entre 0 et 1\n",
        "- **s** *le nombre d'échantillons*, au choix\n",
        "- **type** *l'allure (carrée ou sinusoïdale)*, sinusoïdal par défaut"
      ],
      "metadata": {
        "id": "ty6YHa5rPQEu"
      }
    },
    {
      "cell_type": "code",
      "execution_count": 8,
      "metadata": {
        "id": "wTVwjSudMwKt"
      },
      "outputs": [],
      "source": [
        "I0 = 10                  # incidence optimale\n",
        "threshold = 0.8          # seuil\n",
        "s = 1000                 # nombre d'échantillons"
      ]
    },
    {
      "cell_type": "markdown",
      "metadata": {
        "id": "NDxAjdaZMwKu"
      },
      "source": [
        "On définit une variable **angle** représentant l'angle au vent réel, sur **s** échantillons"
      ]
    },
    {
      "cell_type": "code",
      "execution_count": 9,
      "metadata": {
        "id": "l2mqPqwOMwKu"
      },
      "outputs": [],
      "source": [
        "angle = np.linspace(0, 2*np.pi, s)"
      ]
    },
    {
      "cell_type": "markdown",
      "metadata": {
        "id": "UmyhfYlrMwKu"
      },
      "source": [
        "Appel de la fonction **incidence**"
      ]
    },
    {
      "cell_type": "code",
      "execution_count": 10,
      "metadata": {
        "id": "N5nfE1XEMwKu"
      },
      "outputs": [],
      "source": [
        "incidence_finale = incidence(I0, threshold, s)"
      ]
    },
    {
      "cell_type": "markdown",
      "metadata": {
        "id": "K04c1zCtMwKu"
      },
      "source": [
        "Visualisation de l'incidence"
      ]
    },
    {
      "cell_type": "code",
      "execution_count": 11,
      "metadata": {
        "scrolled": true,
        "id": "i0IEhhcwMwKv",
        "outputId": "7618cf14-4ffc-4ba6-933c-c080a2d18bf0",
        "colab": {
          "base_uri": "https://localhost:8080/",
          "height": 296
        }
      },
      "outputs": [
        {
          "output_type": "display_data",
          "data": {
            "text/plain": [
              "<Figure size 432x288 with 1 Axes>"
            ],
            "image/png": "[encoded data removed]"
          },
          "metadata": {
            "needs_background": "light"
          }
        }
      ],
      "source": [
        "plt.figure()                                    # création d'une figure\n",
        "plt.title('Incidence réelle')                   # titre du graphique\n",
        "plt.xlabel('Angle au vent réel (°)')            # label de l'axe x\n",
        "plt.plot(180 / np.pi * angle, incidence_finale) # tracé avec angle en degrés\n",
        "plt.show()                                      # affichage"
      ]
    },
    {
      "cell_type": "markdown",
      "metadata": {
        "id": "aDE7rWiWMwKv"
      },
      "source": [
        "Il est intéressant de visualiser l'incidence pour différentes valeures de seuil comme ci-dessous :"
      ]
    },
    {
      "cell_type": "code",
      "execution_count": 12,
      "metadata": {
        "scrolled": false,
        "id": "rCPW6jYrMwKw",
        "outputId": "5ffd5ba4-7258-46f5-d44d-7de627484af1",
        "colab": {
          "base_uri": "https://localhost:8080/",
          "height": 350
        }
      },
      "outputs": [
        {
          "output_type": "display_data",
          "data": {
            "text/plain": [
              "<Figure size 1152x360 with 3 Axes>"
            ],
            "image/png": "[encoded data removed]"
          },
          "metadata": {
            "needs_background": "light"
          }
        }
      ],
      "source": [
        "plt.figure(figsize=(16,5))\n",
        "\n",
        "plt.subplot(1, 3, 1)\n",
        "plt.title('Seuil = 0')                  \n",
        "plt.xlabel('Angle au vent réel (°)')            \n",
        "plt.plot(180 / np.pi * angle, incidence(I0, 0, s))\n",
        "\n",
        "plt.subplot(1, 3, 2)\n",
        "plt.title('Seuil = 0.6')                  \n",
        "plt.xlabel('Angle au vent réel (°)')            \n",
        "plt.plot(180 / np.pi * angle, incidence(I0, 0.6, s))\n",
        "\n",
        "plt.subplot(1, 3, 3)\n",
        "plt.title('Seuil = 1')                  \n",
        "plt.xlabel('Angle au vent réel (°)')            \n",
        "plt.plot(180 / np.pi * angle, incidence(I0, 1, s))\n",
        "\n",
        "plt.show()"
      ]
    },
    {
      "cell_type": "markdown",
      "metadata": {
        "id": "RgIyN_HmMwKw"
      },
      "source": [
        "De manière idéale on cherche a tendre vers un seuil de 1 mais cela est, de manière pratique, impossible a mettre en oeuvre pour des raisons mécaniques. En effet cela entrainerait un changement de bord brutal.\n",
        "On utilise donc un seuil choisit arbitrairement à 0.6 pour la suite de l'étude."
      ]
    },
    {
      "cell_type": "markdown",
      "metadata": {
        "id": "Zi3EGWa2MwKw"
      },
      "source": [
        "## Calcul de la puissance"
      ]
    },
    {
      "cell_type": "code",
      "execution_count": null,
      "metadata": {
        "id": "nT0SYoTgMwKx"
      },
      "outputs": [],
      "source": [
        "from function_wind import power"
      ]
    },
    {
      "cell_type": "markdown",
      "metadata": {
        "id": "C-IaM45_MwKx"
      },
      "source": [
        "On définit la vitesse du vent réel ainsi que le ratio entre vent réel et vent due au mouvement de rotation"
      ]
    },
    {
      "cell_type": "code",
      "execution_count": 13,
      "metadata": {
        "id": "l30Nw1sZMwKx"
      },
      "outputs": [],
      "source": [
        "Vr = 6.0 #real wind in m/s\n",
        "Rv = 2.0 # linear/real wind ratio"
      ]
    },
    {
      "cell_type": "markdown",
      "metadata": {
        "id": "OtlUJTp5MwKy"
      },
      "source": [
        "Puis on définit les parametres dimentionelles de l'eolienne"
      ]
    },
    {
      "cell_type": "code",
      "execution_count": 14,
      "metadata": {
        "id": "_ua2dW64MwKy"
      },
      "outputs": [],
      "source": [
        "R = 1.15  #radius\n",
        "l = 0.25  #chord\n",
        "L = 2     #longueur pale"
      ]
    },
    {
      "cell_type": "markdown",
      "metadata": {
        "id": "_ZFD7zLGMwKy"
      },
      "source": [
        "Pour ensuite call la fonction power"
      ]
    },
    {
      "cell_type": "code",
      "execution_count": 19,
      "metadata": {
        "id": "7h1QIVRzMwKy",
        "outputId": "4648afca-9443-4c04-92c8-31bd2e6bb1bb",
        "colab": {
          "base_uri": "https://localhost:8080/"
        }
      },
      "outputs": [
        {
          "output_type": "stream",
          "name": "stdout",
          "text": [
            "La vitesse de rotation est de  99 tr/min\n",
            "La puissance est de  657 W\n",
            "La puissance surfacique est de  143 W/m2\n"
          ]
        }
      ],
      "source": [
        "output = power(Vr, Rv, R, l, L, I0, threshold, s)\n",
        "print('La vitesse de rotation est de ', int(output[0] * 60), 'tr/min')\n",
        "print('La puissance est de ', int(output[1]), 'W')\n",
        "print('La puissance surfacique est de ', int(output[2]), 'W/m2')"
      ]
    },
    {
      "cell_type": "markdown",
      "metadata": {
        "id": "T9cRdlCxMwKy"
      },
      "source": [
        "## Visualisation\n",
        "On peut étudier la puissance en fonction de différents paramètres"
      ]
    },
    {
      "cell_type": "code",
      "execution_count": 20,
      "metadata": {
        "id": "9nHLH6irMwKy",
        "outputId": "6ac9c0b0-e96a-4a21-9392-47935d9c7987",
        "colab": {
          "base_uri": "https://localhost:8080/",
          "height": 265
        }
      },
      "outputs": [
        {
          "output_type": "display_data",
          "data": {
            "text/plain": [
              "<Figure size 432x288 with 1 Axes>"
            ],
            "image/png": "[encoded data removed]"
          },
          "metadata": {
            "needs_background": "light"
          }
        }
      ],
      "source": [
        "Rvi = 0\n",
        "Rvf = 30\n",
        "s2 = 15\n",
        "Rv = np.linspace(Rvi,Rvf,s2)\n",
        "Power_variable = np.linspace(Rvi,Rvf,s2)\n",
        "\n",
        "for i in range(s2):\n",
        "    Power_variable[i] = power(Vr, Rv[i], R, l, L, I0, threshold, s)[1]\n",
        "\n",
        "fig, ax = plt.subplots()\n",
        "ax.plot(np.linspace(Rvi,Rvf,s2),Power_variable)\n",
        "ax.grid()"
      ]
    }
  ],
  "metadata": {
    "kernelspec": {
      "display_name": "Python 3",
      "language": "python",
      "name": "python3"
    },
    "language_info": {
      "codemirror_mode": {
        "name": "ipython",
        "version": 3
      },
      "file_extension": ".py",
      "mimetype": "text/x-python",
      "name": "python",
      "nbconvert_exporter": "python",
      "pygments_lexer": "ipython3",
      "version": "3.7.6"
    },
    "colab": {
      "provenance": [],
      "include_colab_link": true
    }
  },
  "nbformat": 4,
  "nbformat_minor": 0
}